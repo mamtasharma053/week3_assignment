{
 "cells": [
  {
   "cell_type": "markdown",
   "metadata": {},
   "source": [
    "<center>\n",
    "    <img src=\"https://s3-api.us-geo.objectstorage.softlayer.net/cf-courses-data/CognitiveClass/Logos/organization_logo/organization_logo.png\" width=\"300\" alt=\"cognitiveclass.ai logo\"  />\n",
    "</center>\n"
   ]
  },
  {
   "cell_type": "markdown",
   "metadata": {
    "tags": []
   },
   "source": [
    "# Mamta Sharma\n",
    "###### Software Engineer"
   ]
  },
  {
   "cell_type": "markdown",
   "metadata": {
    "tags": []
   },
   "source": [
    "*I am interested in data science because using data science we can do such with raw data, get insights and knowledge from it which can help many organisation to take benefical decisions.*"
   ]
  },
  {
   "cell_type": "markdown",
   "metadata": {
    "tags": []
   },
   "source": [
    "### My following code snippet is written in Python and it's a week 3 assignment which includes a function for adding two variable provided by the user\n"
   ]
  },
  {
   "cell_type": "code",
   "execution_count": null,
   "metadata": {},
   "outputs": [],
   "source": [
    "def add_us(x, y):\n",
    "    return x + y\n",
    "\n",
    "\n",
    "a = int(input(\"enter number 1\"))\n",
    "b = int(input(\"enter number 2\"))\n",
    "print(add_us(a, b))"
   ]
  },
  {
   "cell_type": "markdown",
   "metadata": {
    "jp-MarkdownHeadingCollapsed": true,
    "tags": []
   },
   "source": [
    "\n",
    "___\n",
    "\n",
    "1. hello\n",
    "2. there\n",
    "5. you!\n",
    "\n",
    "| col1        | col2           | col3  |\n",
    "| ------------- |-------------| -----|\n",
    "|row1      | .. | .. |\n",
    "| row2      | --      |   here |\n",
    "\n",
    "\n",
    "> This is a blockquote\n",
    "\n",
    "[hyperlink text](https://www.google.co.in/)\n",
    "\n",
    "Image-style:\n",
    "![alt-text][logo]\n",
    "\n",
    "[logo]: https://www.google.co.in/images/branding/googlelogo/1x/googlelogo_color_272x92dp.png \"logo text\"\n",
    "This is `highlighted text`\n",
    "\n",
    "```Python code\n",
    "\n",
    "a = int(input(\"enter number 1\"))\n",
    "print a\n",
    "```\n",
    "\n",
    "~~strikedthrough text~~"
   ]
  },
  {
   "cell_type": "code",
   "execution_count": null,
   "metadata": {},
   "outputs": [],
   "source": []
  }
 ],
 "metadata": {
  "kernelspec": {
   "display_name": "Python",
   "language": "python",
   "name": "conda-env-python-py"
  },
  "language_info": {
   "codemirror_mode": {
    "name": "ipython",
    "version": 3
   },
   "file_extension": ".py",
   "mimetype": "text/x-python",
   "name": "python",
   "nbconvert_exporter": "python",
   "pygments_lexer": "ipython3",
   "version": "3.7.12"
  }
 },
 "nbformat": 4,
 "nbformat_minor": 4
}
